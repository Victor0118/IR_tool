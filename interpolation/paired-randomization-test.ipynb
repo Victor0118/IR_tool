{
 "cells": [
  {
   "cell_type": "code",
   "execution_count": 1,
   "metadata": {},
   "outputs": [],
   "source": [
    "import numpy as np\n",
    "import shlex\n",
    "import subprocess\n",
    "import sys\n",
    "import pprint"
   ]
  },
  {
   "cell_type": "code",
   "execution_count": 2,
   "metadata": {},
   "outputs": [],
   "source": [
    "def get_docsim(fn, docno2sim = {}):\n",
    "    p = open(fn)\n",
    "    docno_list = []\n",
    "    sim_list = []\n",
    "    count = 0\n",
    "    for l in p:\n",
    "        ls = l[:-1].split()\n",
    "        if len(ls) == 7:\n",
    "            qid, iternum, docno, rank, sim, run_id, label = ls\n",
    "        else:\n",
    "            qid, iternum, docno, rank, sim, run_id = ls\n",
    "        if docno+\"_\"+qid in docno2sim:\n",
    "            # print(\"docno {} already in docno2sim\".format(docno))\n",
    "            count += 1\n",
    "        else:\n",
    "            docno2sim[docno+\"_\"+qid] = float(sim)\n",
    "        sim_list.append(float(sim))\n",
    "        docno_list.append(docno+\"_\"+qid)\n",
    "    maxSim = max(sim_list)\n",
    "    minSim = min(sim_list)\n",
    "    # print(\"count: {}\".format(count))\n",
    "    for docnoqid in docno_list:\n",
    "        docno2sim[docnoqid] = (docno2sim[docnoqid] - minSim) / (maxSim - minSim)\n",
    "    return docno2sim"
   ]
  },
  {
   "cell_type": "code",
   "execution_count": 3,
   "metadata": {},
   "outputs": [
    {
     "name": "stdout",
     "output_type": "stream",
     "text": [
      "train_2013\n",
      "46192\n",
      "test_2011\n",
      "96071\n",
      "train_2011\n",
      "136765\n"
     ]
    }
   ],
   "source": [
    "train2year = {'train_2011': '2011', 'test_2011': '2012', 'train_2013': '2013', 'test_2013': '2014'}\n",
    "docno2sim = {}\n",
    "docno2sim_ql = {}\n",
    "for train in train2year:\n",
    "    if train == \"test_2013\": continue\n",
    "    print(train)\n",
    "    year = train2year[train]\n",
    "    fn = \"baseline/run.microblog{}.QL.txt\".format(year)\n",
    "    docno2sim_ql = get_docsim(fn, docno2sim_ql)\n",
    "    print(len(docno2sim_ql))"
   ]
  },
  {
   "cell_type": "code",
   "execution_count": 14,
   "metadata": {},
   "outputs": [],
   "source": [
    "def get_map_inter(docno2sim, docno2sim_ql, l, debug=False, mode=\"train\"):\n",
    "    docno2sim_inter = {}\n",
    "    for docnoqid in docno2sim:\n",
    "        if docnoqid in docno2sim_ql:\n",
    "            docno2sim_inter[docnoqid] = docno2sim[docnoqid] * l + docno2sim_ql[docnoqid] * (1 -l)\n",
    "    if mode == \"train\":\n",
    "        fn_inter = \"predict.inter.{}.{}.l{:.2f}.{}\".format(mode, model, l, testset)\n",
    "    else:\n",
    "        fn_inter = \"predict.inter.{}.{}.{}\".format(mode, model, testset)\n",
    "    f_inter = open(fn_inter, \"w\")\n",
    "    if debug:\n",
    "        print(\"total pairs: {}, written to file: {}\".format(len(docno2sim_inter), fn_inter))\n",
    "    for docnoqid in docno2sim_inter:\n",
    "        temp = docnoqid.split(\"_\")\n",
    "        docno = temp[0]\n",
    "        qid = temp[1]\n",
    "        score = docno2sim_inter[docno+\"_\"+qid]\n",
    "        f_inter.write('{} 0 {} 0 {} {}\\n'.format(qid, docno, score, model))\n",
    "    # always remember to close the file !\n",
    "    f_inter.close()\n",
    "    \n",
    "    fn_qrels = \"qrels_all.txt\"\n",
    "    cmd = \"/bin/sh run_eval.sh {} {}\".format(fn_inter, fn_qrels)\n",
    "    pargs = shlex.split(cmd)\n",
    "    p = subprocess.Popen(pargs, stdout=subprocess.PIPE, stderr=subprocess.PIPE)\n",
    "    pout, perr = p.communicate()\n",
    "    if debug:\n",
    "        print(\"running {}\".format(cmd))\n",
    "        if len(pout) != 0:\n",
    "            print(pout.decode('utf-8'))\n",
    "        else:\n",
    "            print(perr.decode('utf-8'))\n",
    "    if sys.version_info[0] < 3:\n",
    "        lines = pout.split('\\n')\n",
    "    else:\n",
    "        lines = pout.split(b'\\n')\n",
    "    Map = float(lines[0].strip().split()[-1])\n",
    "    Mrr = float(lines[1].strip().split()[-1])\n",
    "    P30 = float(lines[2].strip().split()[-1])\n",
    "    return Map, P30\n",
    "\n",
    "def get_inter_tune(testset, model, l, debug=False):\n",
    "    train_set = set(['train_2011', 'test_2011', 'train_2013', 'test_2013'])\n",
    "    train_set.remove(testset)\n",
    "    train2year = {'train_2011': '2011', 'test_2011': '2012', 'train_2013': '2013', 'test_2013': '2014'}\n",
    "    docno2sim = {}\n",
    "    docno2sim_ql = {}\n",
    "    for train in train_set:\n",
    "        year = train2year[train]\n",
    "        fn = \"baseline/run.microblog{}.QL.txt\".format(year)\n",
    "        docno2sim_ql = get_docsim(fn, docno2sim_ql)\n",
    "        \n",
    "    fn = \"predict.train.{}.{}.txt\".format(model, testset)\n",
    "    docno2sim = get_docsim(fn, docno2sim)\n",
    "    return get_map_inter(docno2sim, docno2sim_ql, l, debug=debug)\n",
    "\n",
    "def select_l(testset, model, debug=False):\n",
    "    maxL = 0\n",
    "    maxMap = 0\n",
    "    ll = []\n",
    "    for l in range(0, 100, 5):\n",
    "        l = l / 100.0\n",
    "        # print(\"trying lambda: {:.2f}\".format(l))\n",
    "        Map, P30 = get_inter_tune(testset, model, l, debug=debug)\n",
    "        ll.append(Map)\n",
    "        if Map > maxMap:\n",
    "            maxMap = Map\n",
    "            maxL = l\n",
    "    # print(\"best lambda: {} with MAP: {}\".format(maxL, maxMap))\n",
    "    return maxL, ll\n",
    "\n",
    "def get_inter_test(testset, model, l):\n",
    "    train2year = {'train_2011': '2011', 'test_2011': '2012', 'train_2013': '2013', 'test_2013': '2014'}\n",
    "    docno2sim = {}\n",
    "    docno2sim_ql = {}\n",
    "    year = train2year[testset]\n",
    "    fn = \"baseline/run.microblog{}.QL.txt\".format(year)\n",
    "    docno2sim_ql = get_docsim(fn, docno2sim_ql)\n",
    "    fn = \"predict.test.{}.{}.txt\".format(model, testset)\n",
    "    docno2sim = get_docsim(fn, docno2sim)\n",
    "    return get_map_inter(docno2sim, docno2sim_ql, l, mode=\"test\")"
   ]
  },
  {
   "cell_type": "code",
   "execution_count": 18,
   "metadata": {},
   "outputs": [
    {
     "name": "stdout",
     "output_type": "stream",
     "text": [
      "Model: dssm, testset: train_2011, Map = 0.3589, P30 = 0.4143 with lambda = 0.15\n",
      "Model: drmm, testset: train_2011, Map = 0.3477, P30 = 0.4034 with lambda = 0.15\n",
      "Model: cdssm, testset: train_2011, Map = 0.3380, P30 = 0.3952 with lambda = 0.15\n",
      "Model: matchpyramid, testset: train_2011, Map = 0.3707, P30 = 0.4190 with lambda = 0.15\n",
      "Model: knrm, testset: train_2011, Map = 0.3576, P30 = 0.4000 with lambda = 0.0\n",
      "Model: duet, testset: train_2011, Map = 0.3576, P30 = 0.4000 with lambda = 0.0\n",
      "Model: dssm, testset: test_2011, Map = 0.1777, P30 = 0.2989 with lambda = 0.55\n",
      "Model: drmm, testset: test_2011, Map = 0.2213, P30 = 0.3537 with lambda = 0.35\n",
      "Model: cdssm, testset: test_2011, Map = 0.2091, P30 = 0.3311 with lambda = 0.0\n",
      "Model: matchpyramid, testset: test_2011, Map = 0.2170, P30 = 0.3362 with lambda = 0.25\n",
      "Model: knrm, testset: test_2011, Map = 0.2277, P30 = 0.3520 with lambda = 0.05\n",
      "Model: duet, testset: test_2011, Map = 0.2243, P30 = 0.3644 with lambda = 0.3\n",
      "Model: dssm, testset: train_2013, Map = 0.2435, P30 = 0.4328 with lambda = 0.45\n",
      "Model: drmm, testset: train_2013, Map = 0.2639, P30 = 0.4772 with lambda = 0.35\n",
      "Model: cdssm, testset: train_2013, Map = 0.2532, P30 = 0.4450 with lambda = 0.0\n",
      "Model: matchpyramid, testset: train_2013, Map = 0.2594, P30 = 0.4556 with lambda = 0.2\n",
      "Model: knrm, testset: train_2013, Map = 0.2721, P30 = 0.4756 with lambda = 0.15\n",
      "Model: duet, testset: train_2013, Map = 0.2779, P30 = 0.4878 with lambda = 0.3\n",
      "Model: dssm, testset: test_2013, Map = 0.3742, P30 = 0.5885 with lambda = 0.4\n",
      "Model: drmm, testset: test_2013, Map = 0.4042, P30 = 0.6139 with lambda = 0.3\n",
      "Model: cdssm, testset: test_2013, Map = 0.3924, P30 = 0.6182 with lambda = 0.0\n",
      "Model: matchpyramid, testset: test_2013, Map = 0.3915, P30 = 0.6085 with lambda = 0.3\n",
      "Model: knrm, testset: test_2013, Map = 0.4137, P30 = 0.6358 with lambda = 0.05\n",
      "Model: duet, testset: test_2013, Map = 0.4219, P30 = 0.6467 with lambda = 0.25\n"
     ]
    }
   ],
   "source": [
    "# for l in range(0, 101, 5):\n",
    "#     l = l / 100.0\n",
    "# testset = \"test_2013\"\n",
    "# model = \"duet\"\n",
    "trains = ['train_2011', 'test_2011', 'train_2013', 'test_2013']\n",
    "models = [\"dssm\", \"drmm\", \"cdssm\", \"matchpyramid\", \"knrm\", \"duet\"]\n",
    "for testset in trains:\n",
    "    for model in models:\n",
    "        maxL, ll = select_l(testset=testset, model=model, debug=False)\n",
    "        testMap, P30 = get_inter_test(testset=testset, model=model, l=maxL)\n",
    "        print(\"Model: {}, testset: {}, Map = {:.4f}, P30 = {:.4f} with lambda = {}\".format(model, testset, testMap, P30, maxL))"
   ]
  },
  {
   "cell_type": "code",
   "execution_count": null,
   "metadata": {
    "scrolled": true
   },
   "outputs": [],
   "source": [
    "# lam = 0\n",
    "# for l in ll:\n",
    "#     print(\"lambda = {:.2f},    map_interpolation = {}\".format(lam, l))\n",
    "#     lam += 0.05\n"
   ]
  },
  {
   "cell_type": "code",
   "execution_count": null,
   "metadata": {},
   "outputs": [],
   "source": []
  }
 ],
 "metadata": {
  "kernelspec": {
   "display_name": "Python 2",
   "language": "python",
   "name": "python2"
  },
  "language_info": {
   "codemirror_mode": {
    "name": "ipython",
    "version": 2
   },
   "file_extension": ".py",
   "mimetype": "text/x-python",
   "name": "python",
   "nbconvert_exporter": "python",
   "pygments_lexer": "ipython2",
   "version": "2.7.14"
  }
 },
 "nbformat": 4,
 "nbformat_minor": 2
}
